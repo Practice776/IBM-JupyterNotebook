{
 "cells": [
  {
   "cell_type": "markdown",
   "id": "52c096e8-f8cc-4bfb-8dd8-ea122378e955",
   "metadata": {},
   "source": [
    "# Data Science Final Project"
   ]
  },
  {
   "cell_type": "markdown",
   "id": "9479e8c8-8bec-4fff-8e0f-68c93f75e0e9",
   "metadata": {},
   "source": [
    "## Introduction\n",
    "I'm Prashanth Nice to meet you.."
   ]
  },
  {
   "cell_type": "markdown",
   "id": "c3351723-6ba3-4298-a591-fe322f7b02a4",
   "metadata": {},
   "source": [
    "## Data Science Languages\n",
    "- Python\n",
    "- R\n",
    "- SQL\n",
    "- Julia\n",
    "- Scala"
   ]
  },
  {
   "cell_type": "markdown",
   "id": "b148c7ba-51f3-41bd-904b-9c710d1bab77",
   "metadata": {},
   "source": [
    "## Data Science Libraries\n",
    "- Pandas\n",
    "- NumPy\n",
    "- Matplotlib\n",
    "- Scikit-learn\n",
    "- TensorFlow\n",
    "- Keras"
   ]
  },
  {
   "cell_type": "markdown",
   "id": "0eaf5fa6-fec5-49ce-b195-6b3a9add4902",
   "metadata": {},
   "source": [
    "## Data Science Tools\n",
    "| Tool           | Description                          |\n",
    "|----------------|--------------------------------------|\n",
    "| Jupyter Notebook | Interactive computing environment  |\n",
    "| RStudio        | Integrated development environment for R |\n",
    "| Apache Hadoop  | Framework for distributed storage and processing |"
   ]
  },
  {
   "cell_type": "markdown",
   "id": "e62369d4-4b91-4c25-8386-74db30fff587",
   "metadata": {},
   "source": [
    "## Arithmetic Expression Examples"
   ]
  },
  {
   "cell_type": "code",
   "execution_count": 8,
   "id": "30fdef2a-8d0b-4afa-8097-8d3b6f0b4220",
   "metadata": {},
   "outputs": [
    {
     "data": {
      "text/plain": [
       "17"
      ]
     },
     "execution_count": 8,
     "metadata": {},
     "output_type": "execute_result"
    }
   ],
   "source": [
    "# Multiply and add numbers\n",
    "result = (3 * 4) + 5\n",
    "result"
   ]
  },
  {
   "cell_type": "code",
   "execution_count": 9,
   "id": "6123897a-3e56-46a7-ade7-ab8dc9547b44",
   "metadata": {},
   "outputs": [
    {
     "data": {
      "text/plain": [
       "2.5"
      ]
     },
     "execution_count": 9,
     "metadata": {},
     "output_type": "execute_result"
    }
   ],
   "source": [
    "# Convert minutes to hours\n",
    "minutes = 150\n",
    "hours = minutes / 60\n",
    "hours"
   ]
  },
  {
   "cell_type": "markdown",
   "id": "efe5d39f-c3b1-4d57-9b2d-b2b6263afa4f",
   "metadata": {},
   "source": [
    "## Objectives\n",
    "- Understand Data Science languages\n",
    "- Learn about Data Science libraries\n",
    "- Explore Data Science tools\n",
    "- Perform basic arithmetic operations in Python"
   ]
  },
  {
   "cell_type": "markdown",
   "id": "c2edb0df-e158-4c60-a6e2-4e963b6d0315",
   "metadata": {},
   "source": [
    "## Author\n",
    "Prashanth S."
   ]
  },
  {
   "cell_type": "code",
   "execution_count": null,
   "id": "1e038a45-5171-47ea-9635-7d39a7d81d14",
   "metadata": {},
   "outputs": [],
   "source": []
  }
 ],
 "metadata": {
  "kernelspec": {
   "display_name": "Python 3 (ipykernel)",
   "language": "python",
   "name": "python3"
  },
  "language_info": {
   "codemirror_mode": {
    "name": "ipython",
    "version": 3
   },
   "file_extension": ".py",
   "mimetype": "text/x-python",
   "name": "python",
   "nbconvert_exporter": "python",
   "pygments_lexer": "ipython3",
   "version": "3.11.5"
  }
 },
 "nbformat": 4,
 "nbformat_minor": 5
}
